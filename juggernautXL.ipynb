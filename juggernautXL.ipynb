{
  "cells": [
    {
      "cell_type": "code",
      "execution_count": null,
      "metadata": {
        "colab": {
          "base_uri": "https://localhost:8080/"
        },
        "id": "VjYy0F2gZIPR",
        "outputId": "ee1bef82-36d0-46ef-dbd2-847b0fbc6910"
      },
      "outputs": [],
      "source": [
        "%cd /content\n",
        "!git clone https://github.com/lllyasviel/Fooocus.git\n",
        "%cd /content/Fooocus\n",
        "!wget -O /content/Fooocus/models/checkpoints/juggernautXL_v7Rundiffusion.safetensors https://civitai.com/api/download/models/240840?type=Model&format=SafeTensor&size=full&fp=fp16\n",
        "!python entry_with_update.py --share"
      ]
    },
    {
      "cell_type": "code",
      "execution_count": null,
      "metadata": {},
      "outputs": [],
      "source": [
        "#run this after you are done, to download all the pics you generated with other information like promts, seeds....\n",
        "!zip -r /content/AllPics.zip /content/Fooocus/outputs/\n",
        "from google.colab import files\n",
        "files.download(\"/content/AllPics.zip\") "
      ]
    }
  ],
  "metadata": {
    "accelerator": "GPU",
    "colab": {
      "gpuType": "T4",
      "provenance": []
    },
    "kernelspec": {
      "display_name": "Python 3",
      "name": "python3"
    },
    "language_info": {
      "name": "python"
    }
  },
  "nbformat": 4,
  "nbformat_minor": 0
}
